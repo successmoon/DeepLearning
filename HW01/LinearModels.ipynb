{
  "cells": [
    {
      "cell_type": "code",
      "execution_count": null,
      "metadata": {
        "id": "pkALL9GbELwu"
      },
      "outputs": [],
      "source": [
        "from torchvision import datasets as dt\n",
        "import matplotlib.pyplot as plt\n",
        "from torchvision import transforms\n",
        "import torch\n",
        "import torch.nn as nn\n",
        "import torch.optim as optim"
      ]
    },
    {
      "cell_type": "markdown",
      "metadata": {
        "id": "POtuoma8YjKB"
      },
      "source": [
        "# **Q3:**"
      ]
    },
    {
      "cell_type": "markdown",
      "metadata": {
        "id": "6GlQi7SyEPUw"
      },
      "source": [
        "## Dataset"
      ]
    },
    {
      "cell_type": "code",
      "execution_count": null,
      "metadata": {
        "colab": {
          "base_uri": "https://localhost:8080/",
          "height": 429,
          "referenced_widgets": [
            "3c7d694c9c5b4cb2a7363da6f0b10d8f",
            "ada546843c3b4cf7a9a026618742e75b",
            "cc4f3c8f3de44431a61abdc4a064baa2",
            "b0570cb7e11c440b84acbfd13679af61",
            "aedf805682e24f03af1af3c590407511",
            "84547fd6fab94e8ebbe01f6ada4da3db",
            "ae3ca43688f648ed8bb8a9d93675b71a",
            "10f2eb3eb774444ebe53a2761727dd49",
            "e22344034b63402fbdf0195c3fbea12d",
            "fdf85c5baca24b55927be80c2d458638",
            "c006d6ec627640dea5a0ab235fa04d9d",
            "33a33ad49e0f4d44b13070e548177c16",
            "2b3dcd692b0145bd9991c2079882fc03",
            "59981dbd0ec2476686c7c570253ea18d",
            "d80896fba2524562a6eb798e5cfc47e2",
            "873150a9af114fe6aa1ab41e1c3b6055",
            "608af3d303424823bb9a484621093f71",
            "263764fd2d44488cb8a36548dc7e50a9",
            "4849a5160bc74edeb449ad879992e6e3",
            "abb01ca7ae9d40f29b1d610f31792e37",
            "757f8079604145059665dec5d5a07666",
            "b93830cae346479dadd0862d6c53ba9c",
            "01dd1d12b80e469994d69d5a53e5c042",
            "428670bda18549d398aff8c68b043a43",
            "eae55f8fe7a44c389e497b228358b8ca",
            "9d354c76884947af843746df6a847c31",
            "986073802b604a21ab10324010ad4313",
            "52b0969ccf104162bdea793d08dc4d09",
            "bfc0fa11e44445eb83ffbacc5b57fe4c",
            "163b065fc7aa478ab4490bfb42918665",
            "4e8951f887d34e8aaff4f434f933075d",
            "30d5c583f368423e8df51fa1e049e886",
            "6b128c15975243ecba1a22e78e3e7366",
            "64f1f39545784d54be3f3c803f4f6f70",
            "2ca1de618520485cb8838821fbe2eb6b",
            "17feb696002b45c1ad38b1af92f28aef",
            "85abd27faf6545a4ba99d15497047eb7",
            "0f1acb54ac2547f589140bcac5f12869",
            "b1170305bde44220b5afa735e1bf3058",
            "4bdcb501b0b64381b03b3a44a3b79406",
            "1bafec90e9c9407fa52f012471bd4aaa",
            "1cfbf33fb00e44deab0949dd338e3860",
            "bfb099dba2e143a1b0ab89bb6240e7b1",
            "8e502ee030d94454b445ccdefd0c81aa"
          ]
        },
        "id": "ifB-7yRFEOqh",
        "outputId": "902d799d-ade9-4034-e37f-01c0d46ade74"
      },
      "outputs": [
        {
          "output_type": "stream",
          "name": "stdout",
          "text": [
            "Downloading http://yann.lecun.com/exdb/mnist/train-images-idx3-ubyte.gz\n",
            "Downloading http://yann.lecun.com/exdb/mnist/train-images-idx3-ubyte.gz to data/MNIST/raw/train-images-idx3-ubyte.gz\n"
          ]
        },
        {
          "output_type": "display_data",
          "data": {
            "text/plain": [
              "  0%|          | 0/9912422 [00:00<?, ?it/s]"
            ],
            "application/vnd.jupyter.widget-view+json": {
              "version_major": 2,
              "version_minor": 0,
              "model_id": "3c7d694c9c5b4cb2a7363da6f0b10d8f"
            }
          },
          "metadata": {}
        },
        {
          "output_type": "stream",
          "name": "stdout",
          "text": [
            "Extracting data/MNIST/raw/train-images-idx3-ubyte.gz to data/MNIST/raw\n",
            "\n",
            "Downloading http://yann.lecun.com/exdb/mnist/train-labels-idx1-ubyte.gz\n",
            "Downloading http://yann.lecun.com/exdb/mnist/train-labels-idx1-ubyte.gz to data/MNIST/raw/train-labels-idx1-ubyte.gz\n"
          ]
        },
        {
          "output_type": "display_data",
          "data": {
            "text/plain": [
              "  0%|          | 0/28881 [00:00<?, ?it/s]"
            ],
            "application/vnd.jupyter.widget-view+json": {
              "version_major": 2,
              "version_minor": 0,
              "model_id": "33a33ad49e0f4d44b13070e548177c16"
            }
          },
          "metadata": {}
        },
        {
          "output_type": "stream",
          "name": "stdout",
          "text": [
            "Extracting data/MNIST/raw/train-labels-idx1-ubyte.gz to data/MNIST/raw\n",
            "\n",
            "Downloading http://yann.lecun.com/exdb/mnist/t10k-images-idx3-ubyte.gz\n",
            "Downloading http://yann.lecun.com/exdb/mnist/t10k-images-idx3-ubyte.gz to data/MNIST/raw/t10k-images-idx3-ubyte.gz\n"
          ]
        },
        {
          "output_type": "display_data",
          "data": {
            "text/plain": [
              "  0%|          | 0/1648877 [00:00<?, ?it/s]"
            ],
            "application/vnd.jupyter.widget-view+json": {
              "version_major": 2,
              "version_minor": 0,
              "model_id": "01dd1d12b80e469994d69d5a53e5c042"
            }
          },
          "metadata": {}
        },
        {
          "output_type": "stream",
          "name": "stdout",
          "text": [
            "Extracting data/MNIST/raw/t10k-images-idx3-ubyte.gz to data/MNIST/raw\n",
            "\n",
            "Downloading http://yann.lecun.com/exdb/mnist/t10k-labels-idx1-ubyte.gz\n",
            "Downloading http://yann.lecun.com/exdb/mnist/t10k-labels-idx1-ubyte.gz to data/MNIST/raw/t10k-labels-idx1-ubyte.gz\n"
          ]
        },
        {
          "output_type": "display_data",
          "data": {
            "text/plain": [
              "  0%|          | 0/4542 [00:00<?, ?it/s]"
            ],
            "application/vnd.jupyter.widget-view+json": {
              "version_major": 2,
              "version_minor": 0,
              "model_id": "64f1f39545784d54be3f3c803f4f6f70"
            }
          },
          "metadata": {}
        },
        {
          "output_type": "stream",
          "name": "stdout",
          "text": [
            "Extracting data/MNIST/raw/t10k-labels-idx1-ubyte.gz to data/MNIST/raw\n",
            "\n"
          ]
        }
      ],
      "source": [
        "# load the training data\n",
        "mnist = dt.MNIST('data', train=True, download=True)\n",
        "mnist = list(mnist)[:2500]"
      ]
    },
    {
      "cell_type": "code",
      "execution_count": null,
      "metadata": {
        "colab": {
          "base_uri": "https://localhost:8080/",
          "height": 268
        },
        "id": "zuk_zGO0EUeG",
        "outputId": "ccbf9c2d-47c0-410b-de1d-968d7601a27a"
      },
      "outputs": [
        {
          "output_type": "display_data",
          "data": {
            "text/plain": [
              "<Figure size 432x288 with 9 Axes>"
            ],
            "image/png": "[encoded data removed]"
          },
          "metadata": {
            "needs_background": "light"
          }
        }
      ],
      "source": [
        "# plot the first 12 images in the training data\n",
        "import matplotlib.pyplot as plt\n",
        "for k, (image, label) in enumerate(mnist[:9]):\n",
        "  plt.subplot(3, 3, k+1)\n",
        "  plt.imshow(image, cmap='gray')"
      ]
    },
    {
      "cell_type": "code",
      "execution_count": null,
      "metadata": {
        "id": "p36c8NGZEWNw"
      },
      "outputs": [],
      "source": [
        "# transform the image data type to tensor\n",
        "img_to_tensor = transforms.ToTensor()"
      ]
    },
    {
      "cell_type": "code",
      "execution_count": null,
      "metadata": {
        "colab": {
          "base_uri": "https://localhost:8080/"
        },
        "id": "ntOv2eusEbx6",
        "outputId": "5e22fde8-a10f-4044-99f5-33a4a86cf522"
      },
      "outputs": [
        {
          "output_type": "execute_result",
          "data": {
            "text/plain": [
              "torch.Size([1, 28, 28])"
            ]
          },
          "metadata": {},
          "execution_count": 6
        }
      ],
      "source": [
        "# convert the last image we saw into a tensor\n",
        "img_tensor = img_to_tensor(image)\n",
        "img_tensor.shape"
      ]
    },
    {
      "cell_type": "code",
      "execution_count": null,
      "metadata": {
        "id": "JGcRaxCpEdlk"
      },
      "outputs": [],
      "source": [
        "# load the training data as tensor\n",
        "mnist_train = dt.MNIST('data', train=True, transform=img_to_tensor)\n",
        "mnist_train = list(mnist_train)[:2500]"
      ]
    },
    {
      "cell_type": "code",
      "execution_count": null,
      "metadata": {
        "id": "bH7QeYAIEeqf"
      },
      "outputs": [],
      "source": [
        "#split data into training and validation\n",
        "mnist_train, mnist_val = mnist_train[:2000], mnist_train[2000:]"
      ]
    },
    {
      "cell_type": "markdown",
      "metadata": {
        "id": "5SZLq9mhEiwp"
      },
      "source": [
        "## Linear Model in PyTorch"
      ]
    },
    {
      "cell_type": "code",
      "execution_count": null,
      "metadata": {
        "id": "HIU829ynEgwM"
      },
      "outputs": [],
      "source": [
        "# assume 50 features, 1 linear output\n",
        "simple_model = nn.Linear(50, 1)"
      ]
    },
    {
      "cell_type": "code",
      "execution_count": null,
      "metadata": {
        "id": "nYmefVOoElWK"
      },
      "outputs": [],
      "source": [
        "weight, bias = list(simple_model.parameters())"
      ]
    },
    {
      "cell_type": "code",
      "execution_count": null,
      "metadata": {
        "colab": {
          "base_uri": "https://localhost:8080/"
        },
        "id": "CdCfP7AdEmeH",
        "outputId": "40307944-f970-4d74-a01d-d6a719464e20"
      },
      "outputs": [
        {
          "output_type": "stream",
          "name": "stdout",
          "text": [
            "Parameter containing:\n",
            "tensor([[-0.0130,  0.1044,  0.0261, -0.1246,  0.1350, -0.0767, -0.0513,  0.0297,\n",
            "         -0.0920,  0.0061,  0.0978, -0.1065,  0.0404,  0.0172,  0.1124, -0.0805,\n",
            "          0.0226,  0.0370, -0.1067,  0.1044,  0.0477,  0.0772,  0.0365, -0.0945,\n",
            "         -0.0847, -0.0970,  0.1297, -0.0688, -0.0636,  0.0874, -0.1250,  0.0284,\n",
            "         -0.0870,  0.0010,  0.0893,  0.0817, -0.0935, -0.1377, -0.0249,  0.0148,\n",
            "         -0.0430, -0.0076, -0.1115, -0.0180, -0.0578,  0.0070, -0.0556, -0.1354,\n",
            "          0.0576, -0.1393]], requires_grad=True)\n",
            "torch.Size([1, 50])\n",
            "Parameter containing:\n",
            "tensor([0.0861], requires_grad=True)\n",
            "torch.Size([1])\n"
          ]
        }
      ],
      "source": [
        "# By default, PyTorch initializes these values to a random number close to 0\n",
        "print(weight)\n",
        "print(weight.shape)\n",
        "print(bias)\n",
        "print(bias.shape)"
      ]
    },
    {
      "cell_type": "markdown",
      "metadata": {
        "id": "_xGjuLR6Etoq"
      },
      "source": [
        "<font color='red'>Like the example above, create the model to solve the MNIST digitclassification problem.</font>"
      ]
    },
    {
      "cell_type": "code",
      "execution_count": null,
      "metadata": {
        "id": "eqm0J3lAEqPk"
      },
      "outputs": [],
      "source": [
        "'''\n",
        "############\n",
        "# Your code\n",
        "# Start\n",
        "\n",
        "\n",
        "# End\n",
        "'''\n",
        "\n",
        "simple_model = nn.Linear(28*28, 10)"
      ]
    },
    {
      "cell_type": "markdown",
      "metadata": {
        "id": "wLSqYRDYFl7S"
      },
      "source": [
        "## Prediction"
      ]
    },
    {
      "cell_type": "code",
      "execution_count": null,
      "metadata": {
        "id": "vfU3tW5LFOgi"
      },
      "outputs": [],
      "source": [
        "def run_gradient_descent(model,batch_size=64,learning_rate=0.01,weight_decay=0,num_epochs=10):\n",
        "  #define the best optimizer and loss function\n",
        "  '''\n",
        "  ############\n",
        "  # Your code\n",
        "  # Start\n",
        "\n",
        "\n",
        "  # End\n",
        "  '''\n",
        "\n",
        "  criterion = nn.CrossEntropyLoss()\n",
        "  optimzer = optimizer = torch.optim.Adam(model.parameters(), lr=learning_rate)\n",
        "\n",
        "\n",
        "  iters, losses = [], []\n",
        "  iters_sub, train_acc, val_acc = [], [] ,[]\n",
        "\n",
        "\n",
        "\n",
        "\n",
        "  # PyTorch data loader\n",
        "  train_loader = torch.utils.data.DataLoader(\n",
        "      mnist_train,\n",
        "      batch_size=batch_size, # batch size\n",
        "      shuffle=True) # shuffle before each epoch\n",
        "\n",
        "\n",
        "  # training\n",
        "  for epoch in range(num_epochs):\n",
        "\n",
        "    '''\n",
        "    ############\n",
        "    # Your code\n",
        "    # Start\n",
        "\n",
        "\n",
        "    # End\n",
        "\n",
        "    '''\n",
        "\n",
        "    for data in train_loader:\n",
        "\n",
        "      x, y = data\n",
        "      output = model(x.view(-1, 28*28))\n",
        "      loss = criterion(output, y)\n",
        "\n",
        "      loss.backward()\n",
        "      optimizer.step()\n",
        "\n",
        "      optimizer.zero_grad()\n",
        "\n",
        "\n",
        "    iters.append(epoch)\n",
        "    iters_sub.append(epoch)\n",
        "    losses.append(loss.item())\n",
        "    val_acc.append(get_accuracy(model,mnist_val))\n",
        "    train_acc.append(get_accuracy(model,mnist_train))\n",
        "\n",
        "\n",
        "  # plotting\n",
        "  plt.title(\"Training Curve (batch_size={}, lr={})\".format(batch_size, learning_rate))\n",
        "  plt.plot(iters, losses, label=\"Train\")\n",
        "  plt.xlabel(\"Iterations\")\n",
        "  plt.ylabel(\"Loss\")\n",
        "  plt.show()\n",
        "\n",
        "  plt.title(\"Training Curve (batch_size={}, lr={})\".format(batch_size, learning_rate))\n",
        "  plt.plot(iters_sub, train_acc, label=\"Train\")\n",
        "  plt.plot(iters_sub, val_acc, label=\"Validation\")\n",
        "  plt.xlabel(\"Iterations\")\n",
        "  plt.ylabel(\"Accuracy\")\n",
        "  plt.legend(loc='best')\n",
        "  plt.show()\n",
        "\n",
        "def get_accuracy(model, data):\n",
        "  loader = torch.utils.data.DataLoader(data, batch_size=500)\n",
        "\n",
        "  correct, total = 0, 0\n",
        "  for xs, ts in loader:\n",
        "      xs = xs.view(-1, 784) # flatten the image\n",
        "      zs = model(xs)\n",
        "      pred = zs.max(1, keepdim=True)[1] # get the index of the max logit\n",
        "      correct += pred.eq(ts.view_as(pred)).sum().item()\n",
        "      total += int(ts.shape[0])\n",
        "      return correct / total"
      ]
    },
    {
      "cell_type": "code",
      "execution_count": null,
      "metadata": {
        "colab": {
          "base_uri": "https://localhost:8080/",
          "height": 573
        },
        "id": "4Q09iEU-G2tL",
        "outputId": "96cf39bf-591f-4df9-c131-80744819068f"
      },
      "outputs": [
        {
          "output_type": "display_data",
          "data": {
            "text/plain": [
              "<Figure size 432x288 with 1 Axes>"
            ],
            "image/png": "[encoded data removed]"
          },
          "metadata": {
            "needs_background": "light"
          }
        },
        {
          "output_type": "display_data",
          "data": {
            "text/plain": [
              "<Figure size 432x288 with 1 Axes>"
            ],
            "image/png": "[encoded data removed]"
          },
          "metadata": {
            "needs_background": "light"
          }
        }
      ],
      "source": [
        "model = simple_model #creat the model\n",
        "run_gradient_descent(model, batch_size=64, learning_rate=0.01, num_epochs=10)"
      ]
    },
    {
      "cell_type": "markdown",
      "metadata": {
        "id": "tn8TFm30SUmz"
      },
      "source": [
        "<font color='red'>plot model weight for each classes</font>\n",
        "\n",
        "weight shape : (784, 10)\n",
        "\n",
        "bias shape : (1, 10)"
      ]
    },
    {
      "cell_type": "code",
      "execution_count": null,
      "metadata": {
        "id": "Dk2vNkLsSUmz",
        "colab": {
          "base_uri": "https://localhost:8080/",
          "height": 286
        },
        "outputId": "6920256d-e75e-475c-d546-3186b73a88e1"
      },
      "outputs": [
        {
          "output_type": "stream",
          "name": "stdout",
          "text": [
            "torch.Size([10, 784])\n"
          ]
        },
        {
          "output_type": "display_data",
          "data": {
            "text/plain": [
              "<Figure size 432x288 with 10 Axes>"
            ],
            "image/png": "[encoded data removed]"
          },
          "metadata": {
            "needs_background": "light"
          }
        }
      ],
      "source": [
        "print(model.weight.shape)\n",
        "\n",
        "import matplotlib.pyplot as plt\n",
        "for k in range(10):\n",
        "  plt.subplot(4, 3, k+1)\n",
        "  plt.imshow(model.weight[k].detach().numpy().reshape((28, 28)), cmap='gray')"
      ]
    },
    {
      "cell_type": "markdown",
      "metadata": {
        "id": "egKEg31aYv4M"
      },
      "source": [
        "# **Q4:**"
      ]
    },
    {
      "cell_type": "code",
      "execution_count": null,
      "metadata": {
        "id": "S5QEM59VYzC0",
        "colab": {
          "base_uri": "https://localhost:8080/"
        },
        "outputId": "41f48e51-500e-41b6-8a37-ab0755f4b9b5"
      },
      "outputs": [
        {
          "output_type": "stream",
          "name": "stdout",
          "text": [
            "Mounted at /content/drive\n"
          ]
        }
      ],
      "source": [
        "import numpy as np\n",
        "import pandas as pd\n",
        "import matplotlib.pyplot as plt\n",
        "from sklearn.linear_model import LinearRegression\n",
        "from sklearn.model_selection import train_test_split\n",
        "from sklearn.metrics import accuracy_score, mean_squared_error ,mean_absolute_error\n",
        "import torch\n",
        "import warnings\n",
        "from google.colab import drive\n",
        "drive.mount('/content/drive')\n",
        "warnings.filterwarnings('ignore')"
      ]
    },
    {
      "cell_type": "code",
      "execution_count": null,
      "metadata": {
        "id": "GscwZ4Nii1sK",
        "colab": {
          "base_uri": "https://localhost:8080/"
        },
        "outputId": "d8a09251-2809-4c7b-82cf-4afc3c099607"
      },
      "outputs": [
        {
          "output_type": "stream",
          "name": "stdout",
          "text": [
            "      speed   distance   traffic  weather_conditions  Time_Arrival\n",
            "0        66  12.771260  0.560419           14.779715      1.924207\n",
            "1        39  27.367505  0.976736           12.747367      3.452725\n",
            "2        49  32.019847  0.500763           14.674715      2.540334\n",
            "3        71  19.206991  0.495962           12.568860      1.936440\n",
            "4        86  16.915650  0.400313            4.881152      1.668813\n",
            "...     ...        ...       ...                 ...           ...\n",
            "1995     66   5.448461  0.163898            7.544795      1.071012\n",
            "1996     31  35.616019  0.979695           19.123463      4.145438\n",
            "1997     82  28.095359  0.632550           19.845278      2.273836\n",
            "1998     88  39.216023  0.119923            5.500460      1.566746\n",
            "1999     89  26.030452  0.815566            5.129986      2.545009\n",
            "\n",
            "[2000 rows x 5 columns]\n"
          ]
        }
      ],
      "source": [
        "df = pd.read_csv('/content/drive/My Drive/DLAssignments/01/ETA.csv')\n",
        "print(df)"
      ]
    },
    {
      "cell_type": "markdown",
      "metadata": {
        "id": "vxTiPkzBgQyO"
      },
      "source": [
        "# ب:"
      ]
    },
    {
      "cell_type": "code",
      "execution_count": null,
      "metadata": {
        "id": "6jcuft9_hcWQ",
        "colab": {
          "base_uri": "https://localhost:8080/"
        },
        "outputId": "a73cb234-8896-4e7c-dbf3-0d8ba8f4c28f"
      },
      "outputs": [
        {
          "output_type": "stream",
          "name": "stdout",
          "text": [
            "errors from linear regression model\n",
            "mae => 6.250555628639631e-16\n",
            "mse => 6.340716044746764e-31\n"
          ]
        }
      ],
      "source": [
        "# 1-difine X & Y then splite train and test\n",
        "# 2-defin linear regression moudel\n",
        "# 3-perdict y_pred\n",
        "# 4-print MSE & MAE\n",
        "#############################\n",
        "      #input your code\n",
        "#############################\n",
        "\n",
        "from torchvision import datasets as dt\n",
        "import matplotlib.pyplot as plt\n",
        "from torchvision import transforms\n",
        "import torch\n",
        "import torch.nn as nn\n",
        "import torch.optim as optim\n",
        "import torch.utils.data as data_utils\n",
        "from sklearn.metrics import mean_squared_error, mean_absolute_error\n",
        "\n",
        "\n",
        "df['DPS'] = df['distance']/df['speed']\n",
        "del df[\"distance\"]\n",
        "del df[\"speed\"]\n",
        "\n",
        "y= df['Time_Arrival']\n",
        "x = df.loc[:, df.columns != 'Time_Arrival']\n",
        "\n",
        "x_train = x.iloc[:1500]\n",
        "y_train = y.iloc[:1500]\n",
        "\n",
        "x_test = x.iloc[1500:]\n",
        "y_test = y.iloc[1500:]\n",
        "\n",
        "reg = LinearRegression().fit(x_train, y_train)\n",
        "res = reg.predict(np.array( x_test ))\n",
        "\n",
        "print(\"errors from linear regression model\")\n",
        "mae = mean_absolute_error(res, y_test.values)\n",
        "mse = mean_squared_error(res, y_test.values)\n",
        "print(\"mae => \" + str(mae))\n",
        "print(\"mse => \" + str(mse))\n",
        "\n",
        "\n",
        "# x_train['b']=1\n",
        "# X = x_train.to_numpy()\n",
        "# Xt = np.transpose(X)\n",
        "# Y = y_train.to_numpy()\n",
        "\n",
        "\n",
        "\n",
        "# W = np.matmul(\n",
        "#         np.matmul(\n",
        "#             np.linalg.inv(np.matmul(Xt, X)),\n",
        "#             Xt\n",
        "#         ),\n",
        "#         Y\n",
        "#     )\n",
        "\n",
        "# b = W[-1]\n",
        "# W = W[:-1]\n",
        "# res2 = np.matmul(np.array( x_test ),W)+b\n",
        "# print(res[2])\n",
        "# print(res2[2])"
      ]
    },
    {
      "cell_type": "code",
      "execution_count": null,
      "metadata": {
        "id": "uLc04yNUgPdY"
      },
      "outputs": [],
      "source": [
        "# initialize parameter\n",
        "w0 = torch.tensor(10.0, requires_grad=True)\n",
        "w1 = torch.tensor(15.0, requires_grad=True)\n",
        "w2 = torch.tensor(-10.0, requires_grad=True)\n",
        "b = torch.tensor(-20.0, requires_grad=True)\n",
        "step_size = 0.006  #  for optimiser GD\n",
        "epoch = 3500"
      ]
    },
    {
      "cell_type": "code",
      "execution_count": null,
      "metadata": {
        "id": "OvGIKMolgP83",
        "colab": {
          "base_uri": "https://localhost:8080/"
        },
        "outputId": "1ae40256-41a8-4b28-b563-ea0262c6dd7a"
      },
      "outputs": [
        {
          "output_type": "stream",
          "name": "stdout",
          "text": [
            "errors from pytourch network\n",
            "mae => 1.1229733645845563e-07\n",
            "mse => 2.1848290811373826e-14\n"
          ]
        }
      ],
      "source": [
        "# 1-difine X & Y\n",
        "# 2-defin forward & loss function\n",
        "# 3-write train loop\n",
        "# 4-print MSE & MAE\n",
        "# 5-plot loss\n",
        "#############################\n",
        "      #input your code\n",
        "#############################\n",
        "\n",
        "import matplotlib.pyplot as plt\n",
        "simple_model = nn.Linear(3,1)\n",
        "cross_el = nn.CrossEntropyLoss()\n",
        "mse_el = nn.MSELoss()\n",
        "optimizer = torch.optim.Adam(simple_model.parameters(), lr=0.001)\n",
        "\n",
        "train_target = torch.tensor(y_train.values.astype(np.float32))\n",
        "train = torch.tensor(x_train.values.astype(np.float32))\n",
        "train_tensor = data_utils.TensorDataset(train, train_target)\n",
        "train_loader = data_utils.DataLoader(dataset = train_tensor, batch_size = 1, shuffle = True)\n",
        "\n",
        "for epoch in range(20):\n",
        "      simple_model.train()\n",
        "      for batch, (X, y) in enumerate(train_loader):\n",
        "          optimizer.zero_grad()\n",
        "          output = simple_model(X)\n",
        "          loss = mse_el(output,y)\n",
        "          optimizer.zero_grad()\n",
        "          loss.backward()\n",
        "          optimizer.step()\n",
        "\n",
        "\n",
        "test_target = torch.tensor(y_test.values.astype(np.float32))\n",
        "test = torch.tensor(x_test.values.astype(np.float32))\n",
        "test_tensor = data_utils.TensorDataset(test, test_target)\n",
        "test_loader = data_utils.DataLoader(dataset = test_tensor, batch_size = 1, shuffle = False)\n",
        "_res = []\n",
        "with torch.no_grad():\n",
        "    simple_model.eval()\n",
        "    for X, y in test_loader:\n",
        "        pred = simple_model(X)\n",
        "        _res.append(pred.numpy()[0][0])\n",
        "\n",
        "_res = np.array(_res)\n",
        "print(\"errors from pytourch network\")\n",
        "mae = mean_absolute_error(_res, y_test.values)\n",
        "mse = mean_squared_error(_res, y_test.values)\n",
        "print(\"mae => \" + str(mae))\n",
        "print(\"mse => \" + str(mse))"
      ]
    },
    {
      "cell_type": "markdown",
      "metadata": {
        "id": "TY6sVDSMi482"
      },
      "source": [
        "# ج:"
      ]
    },
    {
      "cell_type": "code",
      "execution_count": null,
      "metadata": {
        "id": "puqYxsHli87V"
      },
      "outputs": [],
      "source": [
        "# initialize parameter\n",
        "w0 = torch.tensor(10.0, requires_grad=True)\n",
        "w1 = torch.tensor(15.0, requires_grad=True)\n",
        "w2 = torch.tensor(-10.0, requires_grad=True)\n",
        "b = torch.tensor(-20.0, requires_grad=True)\n",
        "step_size = 0.006  #  for optimiser GD\n",
        "epoch = 3500"
      ]
    },
    {
      "cell_type": "code",
      "execution_count": null,
      "metadata": {
        "id": "22SG0rzZjCaX",
        "colab": {
          "base_uri": "https://localhost:8080/",
          "height": 1000
        },
        "outputId": "93474f68-770d-45a6-f12b-1fb2e97b4ac2"
      },
      "outputs": [
        {
          "output_type": "display_data",
          "data": {
            "text/plain": [
              "<Figure size 432x288 with 1 Axes>"
            ],
            "image/png": "[encoded data removed]"
          },
          "metadata": {
            "needs_background": "light"
          }
        },
        {
          "output_type": "stream",
          "name": "stdout",
          "text": [
            "mean for node 1 0.0317542427679291\n",
            "var for node 1  0.11414552197184388\n"
          ]
        },
        {
          "output_type": "display_data",
          "data": {
            "text/plain": [
              "<Figure size 432x288 with 1 Axes>"
            ],
            "image/png": "[encoded data removed]"
          },
          "metadata": {
            "needs_background": "light"
          }
        },
        {
          "output_type": "stream",
          "name": "stdout",
          "text": [
            "mean for node 2 -0.07014253376983107\n",
            "var for node 2 0.09081570817696337\n"
          ]
        },
        {
          "output_type": "display_data",
          "data": {
            "text/plain": [
              "<Figure size 432x288 with 1 Axes>"
            ],
            "image/png": "[encoded data removed]"
          },
          "metadata": {
            "needs_background": "light"
          }
        },
        {
          "output_type": "stream",
          "name": "stdout",
          "text": [
            "mean for node 3 0.039108537102583794\n",
            "var for node 3 0.12679625452595242\n"
          ]
        },
        {
          "output_type": "display_data",
          "data": {
            "text/plain": [
              "<Figure size 432x288 with 1 Axes>"
            ],
            "image/png": "[encoded data removed]"
          },
          "metadata": {
            "needs_background": "light"
          }
        },
        {
          "output_type": "stream",
          "name": "stdout",
          "text": [
            "mean biases for ending node -0.0025019353441894055\n",
            "var biases for ending node 0.122776352279581\n"
          ]
        }
      ],
      "source": [
        "# 1-difine X & Y\n",
        "# 2-define subset of data\n",
        "# 3-write train loop\n",
        "# 4-plot & analysis w0,w1,w2,b,loss\n",
        "#############################\n",
        "      #input your code\n",
        "#############################\n",
        "\n",
        "\n",
        "weights = []\n",
        "biases = []\n",
        "count = 100\n",
        "for x in range(count):\n",
        "  # iters.append(x+1)\n",
        "  simple_model = nn.Linear(3,1)\n",
        "  train_loader = data_utils.DataLoader(dataset = train_tensor, batch_size = 1, shuffle = True)\n",
        "  for epoch in range(5):\n",
        "      simple_model.train()\n",
        "      for batch, (X, y) in enumerate(train_loader):\n",
        "          if batch > 300: break\n",
        "          optimizer.zero_grad()\n",
        "          output = simple_model(X)\n",
        "          loss = mse_el(output,y)\n",
        "          optimizer.zero_grad()\n",
        "          loss.backward()\n",
        "          optimizer.step()\n",
        "\n",
        "  w,b = simple_model.parameters()\n",
        "  # W.append(w[0].cpu().detach().numpy().tolist())\n",
        "  # B.append(b[0].cpu().detach().numpy().tolist())\n",
        "  # WM.append(w[0].cpu().detach().numpy().mean())\n",
        "  # BM.append(b[0].cpu().detach().numpy().mean())\n",
        "  # WV.append(w[0].cpu().detach().numpy().var())\n",
        "  # BV.append(b[0].cpu().detach().numpy().var())\n",
        "  weights.append(w[0].cpu().detach().numpy().tolist())\n",
        "  biases.append(b[0].cpu().detach().numpy().tolist())\n",
        "\n",
        "\n",
        "iters = []\n",
        "tmp = []\n",
        "for x in range(count):\n",
        "  # print(iters)\n",
        "  iters.append(x)\n",
        "  tmp.append(weights[x][0])\n",
        "plt.title(\"weights for node 1\")\n",
        "plt.plot(iters, tmp, label=\"step\")\n",
        "plt.xlabel(\"Iterations\")\n",
        "plt.ylabel(\"weights for node 1\")\n",
        "plt.show()\n",
        "print(\"mean for node 1 \" + str(np.array(tmp).mean()))\n",
        "print(\"var for node 1  \" + str(np.array(tmp).var()))\n",
        "\n",
        "\n",
        "iters = []\n",
        "tmp = []\n",
        "for x in range(count):\n",
        "  # print(iters)\n",
        "  iters.append(x)\n",
        "  tmp.append(weights[x][1])\n",
        "plt.title(\"weights for node 2\")\n",
        "plt.plot(iters, tmp, label=\"step\")\n",
        "plt.xlabel(\"Iterations\")\n",
        "plt.ylabel(\"weights for node 2\")\n",
        "plt.show()\n",
        "print(\"mean for node 2 \" + str(np.array(tmp).mean()))\n",
        "print(\"var for node 2 \" + str(np.array(tmp).var()))\n",
        "\n",
        "\n",
        "\n",
        "iters = []\n",
        "tmp = []\n",
        "for x in range(count):\n",
        "  # print(iters)\n",
        "  iters.append(x)\n",
        "  tmp.append(weights[x][2])\n",
        "plt.title(\"weights for node 3\")\n",
        "plt.plot(iters, tmp, label=\"step\")\n",
        "plt.xlabel(\"Iterations\")\n",
        "plt.ylabel(\"weights for node 3\")\n",
        "plt.show()\n",
        "print(\"mean for node 3 \" + str(np.array(tmp).mean()))\n",
        "print(\"var for node 3 \" + str(np.array(tmp).var()))\n",
        "\n",
        "iters = []\n",
        "tmp = []\n",
        "for x in range(count):\n",
        "  # print(iters)\n",
        "  iters.append(x)\n",
        "  tmp.append(biases[x])\n",
        "plt.title(\"biases for ending node\")\n",
        "plt.plot(iters, tmp, label=\"step\")\n",
        "plt.xlabel(\"Iterations\")\n",
        "plt.ylabel(\"biases for ending node\")\n",
        "plt.show()\n",
        "print(\"mean biases for ending node \" + str(np.array(tmp).mean()))\n",
        "print(\"var biases for ending node \" + str(np.array(tmp).var()))\n",
        "\n",
        "\n"
      ]
    },
    {
      "cell_type": "markdown",
      "metadata": {
        "id": "ivyQkTIqYWTk"
      },
      "source": [
        "# Q5"
      ]
    },
    {
      "cell_type": "markdown",
      "metadata": {
        "id": "qPmq5KpjYWTk"
      },
      "source": [
        "Write all the parts yourself"
      ]
    },
    {
      "cell_type": "markdown",
      "metadata": {
        "id": "wx7ka1yEYWTl"
      },
      "source": [
        "# ت:"
      ]
    },
    {
      "cell_type": "code",
      "execution_count": null,
      "metadata": {
        "id": "PLIPxgIaYWTm",
        "colab": {
          "base_uri": "https://localhost:8080/"
        },
        "outputId": "bf04fdb3-1748-4893-911f-829446b20eff"
      },
      "outputs": [
        {
          "output_type": "stream",
          "name": "stdout",
          "text": [
            "Drive already mounted at /content/drive; to attempt to forcibly remount, call drive.mount(\"/content/drive\", force_remount=True).\n",
            "[0 0 0 0 0 0 0 0 0 0 0 0 0 0 0 0 0 0 0 0 0 0 0 0 0 0 0 0 0 0 0 0 0 0 0 0 0\n",
            " 0 0 0 0 0 0 0 0 0 0 0 0 0 0 0 0 0 0 0 0 0 0 0 0 0 0 0 0 0 0 0 0 0 0 0 0 0\n",
            " 0 0 1 0 0 0 0 0 0 0 1 0 0 0 0 0 0 0 0 0 0 0 0 0 0 0 0 0 0 0 0 0 0 0 0 0 0\n",
            " 0 0 0 0 0 0 0 0 0 0 0 0 0 0 0 0 0 0 0 0 0 0 0 0 0 0 0 0 0 0 0 0 0 0 0 0 0\n",
            " 0 0 0 0 0 0 0 0 0 0 0 0 0 0 0 0 0 0 0 0 0 0 0 0 0 0 0 0 0 0 0 0 0 0 0 0 0\n",
            " 0 0 0 0 0 0 0 0 0 0 0 0 0 0 0 0 0 0 0 0 0 0 0 0 0 0 0 0 0 0 0 0 0 0 0 0 0\n",
            " 0 0 0 0 0 0 0 0 0 0 0 0 0 0 0 0]\n",
            "4000    0\n",
            "4001    0\n",
            "4002    0\n",
            "4003    0\n",
            "4004    0\n",
            "       ..\n",
            "4233    1\n",
            "4234    0\n",
            "4235    0\n",
            "4236    0\n",
            "4237    0\n",
            "Name: TenYearCHD, Length: 238, dtype: int64\n",
            "0.8361344537815126\n"
          ]
        }
      ],
      "source": [
        "from sklearn.linear_model import LogisticRegression\n",
        "from google.colab import drive\n",
        "import pandas as pd\n",
        "\n",
        "drive.mount('/content/drive')\n",
        "df = pd.read_csv('/content/drive/My Drive/DLAssignments/01/heart_disease.csv')\n",
        "y= df['TenYearCHD']\n",
        "x = df.loc[:, df.columns != 'TenYearCHD']\n",
        "x.fillna(x.mean(), inplace=True)\n",
        "y.fillna(y.mean(), inplace=True)\n",
        "#x = x.fillna(0)\n",
        "#y = y.fillna(0)\n",
        "x_train = x.iloc[:4000]\n",
        "y_train = y.iloc[:4000]\n",
        "x_test = x.iloc[4000:]\n",
        "y_test = y.iloc[4000:]\n",
        "logisticRegr = LogisticRegression()\n",
        "logisticRegr.fit(x_train, y_train)\n",
        "predictions = logisticRegr.predict(x_test)\n",
        "r = logisticRegr.score(x_test, y_test)\n",
        "print(predictions)\n",
        "print(y_test)\n",
        "print(r)"
      ]
    },
    {
      "cell_type": "code",
      "source": [],
      "metadata": {
        "id": "D-zc43xuUfJZ"
      },
      "execution_count": null,
      "outputs": []
    }
  ],
  "metadata": {
    "colab": {
      "provenance": []
    },
    "kernelspec": {
      "display_name": "base",
      "language": "python",
      "name": "python3"
    },
    "language_info": {
      "name": "python",
      "version": "3.8.5 (default, Sep  3 2020, 21:29:08) [MSC v.1916 64 bit (AMD64)]"
    },
    "vscode": {
      "interpreter": {
        "hash": "23bf0724a01b6ea9814e66f76182ea78c0ee849a72ca257c0e116bf83bb4960a"
      }
    },
    "widgets": {
      "application/vnd.jupyter.widget-state+json": {
        "3c7d694c9c5b4cb2a7363da6f0b10d8f": {
          "model_module": "@jupyter-widgets/controls",
          "model_name": "HBoxModel",
          "model_module_version": "1.5.0",
          "state": {
            "_dom_classes": [],
            "_model_module": "@jupyter-widgets/controls",
            "_model_module_version": "1.5.0",
            "_model_name": "HBoxModel",
            "_view_count": null,
            "_view_module": "@jupyter-widgets/controls",
            "_view_module_version": "1.5.0",
            "_view_name": "HBoxView",
            "box_style": "",
            "children": [
              "IPY_MODEL_ada546843c3b4cf7a9a026618742e75b",
              "IPY_MODEL_cc4f3c8f3de44431a61abdc4a064baa2",
              "IPY_MODEL_b0570cb7e11c440b84acbfd13679af61"
            ],
            "layout": "IPY_MODEL_aedf805682e24f03af1af3c590407511"
          }
        },
        "ada546843c3b4cf7a9a026618742e75b": {
          "model_module": "@jupyter-widgets/controls",
          "model_name": "HTMLModel",
          "model_module_version": "1.5.0",
          "state": {
            "_dom_classes": [],
            "_model_module": "@jupyter-widgets/controls",
            "_model_module_version": "1.5.0",
            "_model_name": "HTMLModel",
            "_view_count": null,
            "_view_module": "@jupyter-widgets/controls",
            "_view_module_version": "1.5.0",
            "_view_name": "HTMLView",
            "description": "",
            "description_tooltip": null,
            "layout": "IPY_MODEL_84547fd6fab94e8ebbe01f6ada4da3db",
            "placeholder": "​",
            "style": "IPY_MODEL_ae3ca43688f648ed8bb8a9d93675b71a",
            "value": "100%"
          }
        },
        "cc4f3c8f3de44431a61abdc4a064baa2": {
          "model_module": "@jupyter-widgets/controls",
          "model_name": "FloatProgressModel",
          "model_module_version": "1.5.0",
          "state": {
            "_dom_classes": [],
            "_model_module": "@jupyter-widgets/controls",
            "_model_module_version": "1.5.0",
            "_model_name": "FloatProgressModel",
            "_view_count": null,
            "_view_module": "@jupyter-widgets/controls",
            "_view_module_version": "1.5.0",
            "_view_name": "ProgressView",
            "bar_style": "success",
            "description": "",
            "description_tooltip": null,
            "layout": "IPY_MODEL_10f2eb3eb774444ebe53a2761727dd49",
            "max": 9912422,
            "min": 0,
            "orientation": "horizontal",
            "style": "IPY_MODEL_e22344034b63402fbdf0195c3fbea12d",
            "value": 9912422
          }
        },
        "b0570cb7e11c440b84acbfd13679af61": {
          "model_module": "@jupyter-widgets/controls",
          "model_name": "HTMLModel",
          "model_module_version": "1.5.0",
          "state": {
            "_dom_classes": [],
            "_model_module": "@jupyter-widgets/controls",
            "_model_module_version": "1.5.0",
            "_model_name": "HTMLModel",
            "_view_count": null,
            "_view_module": "@jupyter-widgets/controls",
            "_view_module_version": "1.5.0",
            "_view_name": "HTMLView",
            "description": "",
            "description_tooltip": null,
            "layout": "IPY_MODEL_fdf85c5baca24b55927be80c2d458638",
            "placeholder": "​",
            "style": "IPY_MODEL_c006d6ec627640dea5a0ab235fa04d9d",
            "value": " 9912422/9912422 [00:00&lt;00:00, 18682337.15it/s]"
          }
        },
        "aedf805682e24f03af1af3c590407511": {
          "model_module": "@jupyter-widgets/base",
          "model_name": "LayoutModel",
          "model_module_version": "1.2.0",
          "state": {
            "_model_module": "@jupyter-widgets/base",
            "_model_module_version": "1.2.0",
            "_model_name": "LayoutModel",
            "_view_count": null,
            "_view_module": "@jupyter-widgets/base",
            "_view_module_version": "1.2.0",
            "_view_name": "LayoutView",
            "align_content": null,
            "align_items": null,
            "align_self": null,
            "border": null,
            "bottom": null,
            "display": null,
            "flex": null,
            "flex_flow": null,
            "grid_area": null,
            "grid_auto_columns": null,
            "grid_auto_flow": null,
            "grid_auto_rows": null,
            "grid_column": null,
            "grid_gap": null,
            "grid_row": null,
            "grid_template_areas": null,
            "grid_template_columns": null,
            "grid_template_rows": null,
            "height": null,
            "justify_content": null,
            "justify_items": null,
            "left": null,
            "margin": null,
            "max_height": null,
            "max_width": null,
            "min_height": null,
            "min_width": null,
            "object_fit": null,
            "object_position": null,
            "order": null,
            "overflow": null,
            "overflow_x": null,
            "overflow_y": null,
            "padding": null,
            "right": null,
            "top": null,
            "visibility": null,
            "width": null
          }
        },
        "84547fd6fab94e8ebbe01f6ada4da3db": {
          "model_module": "@jupyter-widgets/base",
          "model_name": "LayoutModel",
          "model_module_version": "1.2.0",
          "state": {
            "_model_module": "@jupyter-widgets/base",
            "_model_module_version": "1.2.0",
            "_model_name": "LayoutModel",
            "_view_count": null,
            "_view_module": "@jupyter-widgets/base",
            "_view_module_version": "1.2.0",
            "_view_name": "LayoutView",
            "align_content": null,
            "align_items": null,
            "align_self": null,
            "border": null,
            "bottom": null,
            "display": null,
            "flex": null,
            "flex_flow": null,
            "grid_area": null,
            "grid_auto_columns": null,
            "grid_auto_flow": null,
            "grid_auto_rows": null,
            "grid_column": null,
            "grid_gap": null,
            "grid_row": null,
            "grid_template_areas": null,
            "grid_template_columns": null,
            "grid_template_rows": null,
            "height": null,
            "justify_content": null,
            "justify_items": null,
            "left": null,
            "margin": null,
            "max_height": null,
            "max_width": null,
            "min_height": null,
            "min_width": null,
            "object_fit": null,
            "object_position": null,
            "order": null,
            "overflow": null,
            "overflow_x": null,
            "overflow_y": null,
            "padding": null,
            "right": null,
            "top": null,
            "visibility": null,
            "width": null
          }
        },
        "ae3ca43688f648ed8bb8a9d93675b71a": {
          "model_module": "@jupyter-widgets/controls",
          "model_name": "DescriptionStyleModel",
          "model_module_version": "1.5.0",
          "state": {
            "_model_module": "@jupyter-widgets/controls",
            "_model_module_version": "1.5.0",
            "_model_name": "DescriptionStyleModel",
            "_view_count": null,
            "_view_module": "@jupyter-widgets/base",
            "_view_module_version": "1.2.0",
            "_view_name": "StyleView",
            "description_width": ""
          }
        },
        "10f2eb3eb774444ebe53a2761727dd49": {
          "model_module": "@jupyter-widgets/base",
          "model_name": "LayoutModel",
          "model_module_version": "1.2.0",
          "state": {
            "_model_module": "@jupyter-widgets/base",
            "_model_module_version": "1.2.0",
            "_model_name": "LayoutModel",
            "_view_count": null,
            "_view_module": "@jupyter-widgets/base",
            "_view_module_version": "1.2.0",
            "_view_name": "LayoutView",
            "align_content": null,
            "align_items": null,
            "align_self": null,
            "border": null,
            "bottom": null,
            "display": null,
            "flex": null,
            "flex_flow": null,
            "grid_area": null,
            "grid_auto_columns": null,
            "grid_auto_flow": null,
            "grid_auto_rows": null,
            "grid_column": null,
            "grid_gap": null,
            "grid_row": null,
            "grid_template_areas": null,
            "grid_template_columns": null,
            "grid_template_rows": null,
            "height": null,
            "justify_content": null,
            "justify_items": null,
            "left": null,
            "margin": null,
            "max_height": null,
            "max_width": null,
            "min_height": null,
            "min_width": null,
            "object_fit": null,
            "object_position": null,
            "order": null,
            "overflow": null,
            "overflow_x": null,
            "overflow_y": null,
            "padding": null,
            "right": null,
            "top": null,
            "visibility": null,
            "width": null
          }
        },
        "e22344034b63402fbdf0195c3fbea12d": {
          "model_module": "@jupyter-widgets/controls",
          "model_name": "ProgressStyleModel",
          "model_module_version": "1.5.0",
          "state": {
            "_model_module": "@jupyter-widgets/controls",
            "_model_module_version": "1.5.0",
            "_model_name": "ProgressStyleModel",
            "_view_count": null,
            "_view_module": "@jupyter-widgets/base",
            "_view_module_version": "1.2.0",
            "_view_name": "StyleView",
            "bar_color": null,
            "description_width": ""
          }
        },
        "fdf85c5baca24b55927be80c2d458638": {
          "model_module": "@jupyter-widgets/base",
          "model_name": "LayoutModel",
          "model_module_version": "1.2.0",
          "state": {
            "_model_module": "@jupyter-widgets/base",
            "_model_module_version": "1.2.0",
            "_model_name": "LayoutModel",
            "_view_count": null,
            "_view_module": "@jupyter-widgets/base",
            "_view_module_version": "1.2.0",
            "_view_name": "LayoutView",
            "align_content": null,
            "align_items": null,
            "align_self": null,
            "border": null,
            "bottom": null,
            "display": null,
            "flex": null,
            "flex_flow": null,
            "grid_area": null,
            "grid_auto_columns": null,
            "grid_auto_flow": null,
            "grid_auto_rows": null,
            "grid_column": null,
            "grid_gap": null,
            "grid_row": null,
            "grid_template_areas": null,
            "grid_template_columns": null,
            "grid_template_rows": null,
            "height": null,
            "justify_content": null,
            "justify_items": null,
            "left": null,
            "margin": null,
            "max_height": null,
            "max_width": null,
            "min_height": null,
            "min_width": null,
            "object_fit": null,
            "object_position": null,
            "order": null,
            "overflow": null,
            "overflow_x": null,
            "overflow_y": null,
            "padding": null,
            "right": null,
            "top": null,
            "visibility": null,
            "width": null
          }
        },
        "c006d6ec627640dea5a0ab235fa04d9d": {
          "model_module": "@jupyter-widgets/controls",
          "model_name": "DescriptionStyleModel",
          "model_module_version": "1.5.0",
          "state": {
            "_model_module": "@jupyter-widgets/controls",
            "_model_module_version": "1.5.0",
            "_model_name": "DescriptionStyleModel",
            "_view_count": null,
            "_view_module": "@jupyter-widgets/base",
            "_view_module_version": "1.2.0",
            "_view_name": "StyleView",
            "description_width": ""
          }
        },
        "33a33ad49e0f4d44b13070e548177c16": {
          "model_module": "@jupyter-widgets/controls",
          "model_name": "HBoxModel",
          "model_module_version": "1.5.0",
          "state": {
            "_dom_classes": [],
            "_model_module": "@jupyter-widgets/controls",
            "_model_module_version": "1.5.0",
            "_model_name": "HBoxModel",
            "_view_count": null,
            "_view_module": "@jupyter-widgets/controls",
            "_view_module_version": "1.5.0",
            "_view_name": "HBoxView",
            "box_style": "",
            "children": [
              "IPY_MODEL_2b3dcd692b0145bd9991c2079882fc03",
              "IPY_MODEL_59981dbd0ec2476686c7c570253ea18d",
              "IPY_MODEL_d80896fba2524562a6eb798e5cfc47e2"
            ],
            "layout": "IPY_MODEL_873150a9af114fe6aa1ab41e1c3b6055"
          }
        },
        "2b3dcd692b0145bd9991c2079882fc03": {
          "model_module": "@jupyter-widgets/controls",
          "model_name": "HTMLModel",
          "model_module_version": "1.5.0",
          "state": {
            "_dom_classes": [],
            "_model_module": "@jupyter-widgets/controls",
            "_model_module_version": "1.5.0",
            "_model_name": "HTMLModel",
            "_view_count": null,
            "_view_module": "@jupyter-widgets/controls",
            "_view_module_version": "1.5.0",
            "_view_name": "HTMLView",
            "description": "",
            "description_tooltip": null,
            "layout": "IPY_MODEL_608af3d303424823bb9a484621093f71",
            "placeholder": "​",
            "style": "IPY_MODEL_263764fd2d44488cb8a36548dc7e50a9",
            "value": "100%"
          }
        },
        "59981dbd0ec2476686c7c570253ea18d": {
          "model_module": "@jupyter-widgets/controls",
          "model_name": "FloatProgressModel",
          "model_module_version": "1.5.0",
          "state": {
            "_dom_classes": [],
            "_model_module": "@jupyter-widgets/controls",
            "_model_module_version": "1.5.0",
            "_model_name": "FloatProgressModel",
            "_view_count": null,
            "_view_module": "@jupyter-widgets/controls",
            "_view_module_version": "1.5.0",
            "_view_name": "ProgressView",
            "bar_style": "success",
            "description": "",
            "description_tooltip": null,
            "layout": "IPY_MODEL_4849a5160bc74edeb449ad879992e6e3",
            "max": 28881,
            "min": 0,
            "orientation": "horizontal",
            "style": "IPY_MODEL_abb01ca7ae9d40f29b1d610f31792e37",
            "value": 28881
          }
        },
        "d80896fba2524562a6eb798e5cfc47e2": {
          "model_module": "@jupyter-widgets/controls",
          "model_name": "HTMLModel",
          "model_module_version": "1.5.0",
          "state": {
            "_dom_classes": [],
            "_model_module": "@jupyter-widgets/controls",
            "_model_module_version": "1.5.0",
            "_model_name": "HTMLModel",
            "_view_count": null,
            "_view_module": "@jupyter-widgets/controls",
            "_view_module_version": "1.5.0",
            "_view_name": "HTMLView",
            "description": "",
            "description_tooltip": null,
            "layout": "IPY_MODEL_757f8079604145059665dec5d5a07666",
            "placeholder": "​",
            "style": "IPY_MODEL_b93830cae346479dadd0862d6c53ba9c",
            "value": " 28881/28881 [00:00&lt;00:00, 335495.53it/s]"
          }
        },
        "873150a9af114fe6aa1ab41e1c3b6055": {
          "model_module": "@jupyter-widgets/base",
          "model_name": "LayoutModel",
          "model_module_version": "1.2.0",
          "state": {
            "_model_module": "@jupyter-widgets/base",
            "_model_module_version": "1.2.0",
            "_model_name": "LayoutModel",
            "_view_count": null,
            "_view_module": "@jupyter-widgets/base",
            "_view_module_version": "1.2.0",
            "_view_name": "LayoutView",
            "align_content": null,
            "align_items": null,
            "align_self": null,
            "border": null,
            "bottom": null,
            "display": null,
            "flex": null,
            "flex_flow": null,
            "grid_area": null,
            "grid_auto_columns": null,
            "grid_auto_flow": null,
            "grid_auto_rows": null,
            "grid_column": null,
            "grid_gap": null,
            "grid_row": null,
            "grid_template_areas": null,
            "grid_template_columns": null,
            "grid_template_rows": null,
            "height": null,
            "justify_content": null,
            "justify_items": null,
            "left": null,
            "margin": null,
            "max_height": null,
            "max_width": null,
            "min_height": null,
            "min_width": null,
            "object_fit": null,
            "object_position": null,
            "order": null,
            "overflow": null,
            "overflow_x": null,
            "overflow_y": null,
            "padding": null,
            "right": null,
            "top": null,
            "visibility": null,
            "width": null
          }
        },
        "608af3d303424823bb9a484621093f71": {
          "model_module": "@jupyter-widgets/base",
          "model_name": "LayoutModel",
          "model_module_version": "1.2.0",
          "state": {
            "_model_module": "@jupyter-widgets/base",
            "_model_module_version": "1.2.0",
            "_model_name": "LayoutModel",
            "_view_count": null,
            "_view_module": "@jupyter-widgets/base",
            "_view_module_version": "1.2.0",
            "_view_name": "LayoutView",
            "align_content": null,
            "align_items": null,
            "align_self": null,
            "border": null,
            "bottom": null,
            "display": null,
            "flex": null,
            "flex_flow": null,
            "grid_area": null,
            "grid_auto_columns": null,
            "grid_auto_flow": null,
            "grid_auto_rows": null,
            "grid_column": null,
            "grid_gap": null,
            "grid_row": null,
            "grid_template_areas": null,
            "grid_template_columns": null,
            "grid_template_rows": null,
            "height": null,
            "justify_content": null,
            "justify_items": null,
            "left": null,
            "margin": null,
            "max_height": null,
            "max_width": null,
            "min_height": null,
            "min_width": null,
            "object_fit": null,
            "object_position": null,
            "order": null,
            "overflow": null,
            "overflow_x": null,
            "overflow_y": null,
            "padding": null,
            "right": null,
            "top": null,
            "visibility": null,
            "width": null
          }
        },
        "263764fd2d44488cb8a36548dc7e50a9": {
          "model_module": "@jupyter-widgets/controls",
          "model_name": "DescriptionStyleModel",
          "model_module_version": "1.5.0",
          "state": {
            "_model_module": "@jupyter-widgets/controls",
            "_model_module_version": "1.5.0",
            "_model_name": "DescriptionStyleModel",
            "_view_count": null,
            "_view_module": "@jupyter-widgets/base",
            "_view_module_version": "1.2.0",
            "_view_name": "StyleView",
            "description_width": ""
          }
        },
        "4849a5160bc74edeb449ad879992e6e3": {
          "model_module": "@jupyter-widgets/base",
          "model_name": "LayoutModel",
          "model_module_version": "1.2.0",
          "state": {
            "_model_module": "@jupyter-widgets/base",
            "_model_module_version": "1.2.0",
            "_model_name": "LayoutModel",
            "_view_count": null,
            "_view_module": "@jupyter-widgets/base",
            "_view_module_version": "1.2.0",
            "_view_name": "LayoutView",
            "align_content": null,
            "align_items": null,
            "align_self": null,
            "border": null,
            "bottom": null,
            "display": null,
            "flex": null,
            "flex_flow": null,
            "grid_area": null,
            "grid_auto_columns": null,
            "grid_auto_flow": null,
            "grid_auto_rows": null,
            "grid_column": null,
            "grid_gap": null,
            "grid_row": null,
            "grid_template_areas": null,
            "grid_template_columns": null,
            "grid_template_rows": null,
            "height": null,
            "justify_content": null,
            "justify_items": null,
            "left": null,
            "margin": null,
            "max_height": null,
            "max_width": null,
            "min_height": null,
            "min_width": null,
            "object_fit": null,
            "object_position": null,
            "order": null,
            "overflow": null,
            "overflow_x": null,
            "overflow_y": null,
            "padding": null,
            "right": null,
            "top": null,
            "visibility": null,
            "width": null
          }
        },
        "abb01ca7ae9d40f29b1d610f31792e37": {
          "model_module": "@jupyter-widgets/controls",
          "model_name": "ProgressStyleModel",
          "model_module_version": "1.5.0",
          "state": {
            "_model_module": "@jupyter-widgets/controls",
            "_model_module_version": "1.5.0",
            "_model_name": "ProgressStyleModel",
            "_view_count": null,
            "_view_module": "@jupyter-widgets/base",
            "_view_module_version": "1.2.0",
            "_view_name": "StyleView",
            "bar_color": null,
            "description_width": ""
          }
        },
        "757f8079604145059665dec5d5a07666": {
          "model_module": "@jupyter-widgets/base",
          "model_name": "LayoutModel",
          "model_module_version": "1.2.0",
          "state": {
            "_model_module": "@jupyter-widgets/base",
            "_model_module_version": "1.2.0",
            "_model_name": "LayoutModel",
            "_view_count": null,
            "_view_module": "@jupyter-widgets/base",
            "_view_module_version": "1.2.0",
            "_view_name": "LayoutView",
            "align_content": null,
            "align_items": null,
            "align_self": null,
            "border": null,
            "bottom": null,
            "display": null,
            "flex": null,
            "flex_flow": null,
            "grid_area": null,
            "grid_auto_columns": null,
            "grid_auto_flow": null,
            "grid_auto_rows": null,
            "grid_column": null,
            "grid_gap": null,
            "grid_row": null,
            "grid_template_areas": null,
            "grid_template_columns": null,
            "grid_template_rows": null,
            "height": null,
            "justify_content": null,
            "justify_items": null,
            "left": null,
            "margin": null,
            "max_height": null,
            "max_width": null,
            "min_height": null,
            "min_width": null,
            "object_fit": null,
            "object_position": null,
            "order": null,
            "overflow": null,
            "overflow_x": null,
            "overflow_y": null,
            "padding": null,
            "right": null,
            "top": null,
            "visibility": null,
            "width": null
          }
        },
        "b93830cae346479dadd0862d6c53ba9c": {
          "model_module": "@jupyter-widgets/controls",
          "model_name": "DescriptionStyleModel",
          "model_module_version": "1.5.0",
          "state": {
            "_model_module": "@jupyter-widgets/controls",
            "_model_module_version": "1.5.0",
            "_model_name": "DescriptionStyleModel",
            "_view_count": null,
            "_view_module": "@jupyter-widgets/base",
            "_view_module_version": "1.2.0",
            "_view_name": "StyleView",
            "description_width": ""
          }
        },
        "01dd1d12b80e469994d69d5a53e5c042": {
          "model_module": "@jupyter-widgets/controls",
          "model_name": "HBoxModel",
          "model_module_version": "1.5.0",
          "state": {
            "_dom_classes": [],
            "_model_module": "@jupyter-widgets/controls",
            "_model_module_version": "1.5.0",
            "_model_name": "HBoxModel",
            "_view_count": null,
            "_view_module": "@jupyter-widgets/controls",
            "_view_module_version": "1.5.0",
            "_view_name": "HBoxView",
            "box_style": "",
            "children": [
              "IPY_MODEL_428670bda18549d398aff8c68b043a43",
              "IPY_MODEL_eae55f8fe7a44c389e497b228358b8ca",
              "IPY_MODEL_9d354c76884947af843746df6a847c31"
            ],
            "layout": "IPY_MODEL_986073802b604a21ab10324010ad4313"
          }
        },
        "428670bda18549d398aff8c68b043a43": {
          "model_module": "@jupyter-widgets/controls",
          "model_name": "HTMLModel",
          "model_module_version": "1.5.0",
          "state": {
            "_dom_classes": [],
            "_model_module": "@jupyter-widgets/controls",
            "_model_module_version": "1.5.0",
            "_model_name": "HTMLModel",
            "_view_count": null,
            "_view_module": "@jupyter-widgets/controls",
            "_view_module_version": "1.5.0",
            "_view_name": "HTMLView",
            "description": "",
            "description_tooltip": null,
            "layout": "IPY_MODEL_52b0969ccf104162bdea793d08dc4d09",
            "placeholder": "​",
            "style": "IPY_MODEL_bfc0fa11e44445eb83ffbacc5b57fe4c",
            "value": "100%"
          }
        },
        "eae55f8fe7a44c389e497b228358b8ca": {
          "model_module": "@jupyter-widgets/controls",
          "model_name": "FloatProgressModel",
          "model_module_version": "1.5.0",
          "state": {
            "_dom_classes": [],
            "_model_module": "@jupyter-widgets/controls",
            "_model_module_version": "1.5.0",
            "_model_name": "FloatProgressModel",
            "_view_count": null,
            "_view_module": "@jupyter-widgets/controls",
            "_view_module_version": "1.5.0",
            "_view_name": "ProgressView",
            "bar_style": "success",
            "description": "",
            "description_tooltip": null,
            "layout": "IPY_MODEL_163b065fc7aa478ab4490bfb42918665",
            "max": 1648877,
            "min": 0,
            "orientation": "horizontal",
            "style": "IPY_MODEL_4e8951f887d34e8aaff4f434f933075d",
            "value": 1648877
          }
        },
        "9d354c76884947af843746df6a847c31": {
          "model_module": "@jupyter-widgets/controls",
          "model_name": "HTMLModel",
          "model_module_version": "1.5.0",
          "state": {
            "_dom_classes": [],
            "_model_module": "@jupyter-widgets/controls",
            "_model_module_version": "1.5.0",
            "_model_name": "HTMLModel",
            "_view_count": null,
            "_view_module": "@jupyter-widgets/controls",
            "_view_module_version": "1.5.0",
            "_view_name": "HTMLView",
            "description": "",
            "description_tooltip": null,
            "layout": "IPY_MODEL_30d5c583f368423e8df51fa1e049e886",
            "placeholder": "​",
            "style": "IPY_MODEL_6b128c15975243ecba1a22e78e3e7366",
            "value": " 1648877/1648877 [00:00&lt;00:00, 4481015.53it/s]"
          }
        },
        "986073802b604a21ab10324010ad4313": {
          "model_module": "@jupyter-widgets/base",
          "model_name": "LayoutModel",
          "model_module_version": "1.2.0",
          "state": {
            "_model_module": "@jupyter-widgets/base",
            "_model_module_version": "1.2.0",
            "_model_name": "LayoutModel",
            "_view_count": null,
            "_view_module": "@jupyter-widgets/base",
            "_view_module_version": "1.2.0",
            "_view_name": "LayoutView",
            "align_content": null,
            "align_items": null,
            "align_self": null,
            "border": null,
            "bottom": null,
            "display": null,
            "flex": null,
            "flex_flow": null,
            "grid_area": null,
            "grid_auto_columns": null,
            "grid_auto_flow": null,
            "grid_auto_rows": null,
            "grid_column": null,
            "grid_gap": null,
            "grid_row": null,
            "grid_template_areas": null,
            "grid_template_columns": null,
            "grid_template_rows": null,
            "height": null,
            "justify_content": null,
            "justify_items": null,
            "left": null,
            "margin": null,
            "max_height": null,
            "max_width": null,
            "min_height": null,
            "min_width": null,
            "object_fit": null,
            "object_position": null,
            "order": null,
            "overflow": null,
            "overflow_x": null,
            "overflow_y": null,
            "padding": null,
            "right": null,
            "top": null,
            "visibility": null,
            "width": null
          }
        },
        "52b0969ccf104162bdea793d08dc4d09": {
          "model_module": "@jupyter-widgets/base",
          "model_name": "LayoutModel",
          "model_module_version": "1.2.0",
          "state": {
            "_model_module": "@jupyter-widgets/base",
            "_model_module_version": "1.2.0",
            "_model_name": "LayoutModel",
            "_view_count": null,
            "_view_module": "@jupyter-widgets/base",
            "_view_module_version": "1.2.0",
            "_view_name": "LayoutView",
            "align_content": null,
            "align_items": null,
            "align_self": null,
            "border": null,
            "bottom": null,
            "display": null,
            "flex": null,
            "flex_flow": null,
            "grid_area": null,
            "grid_auto_columns": null,
            "grid_auto_flow": null,
            "grid_auto_rows": null,
            "grid_column": null,
            "grid_gap": null,
            "grid_row": null,
            "grid_template_areas": null,
            "grid_template_columns": null,
            "grid_template_rows": null,
            "height": null,
            "justify_content": null,
            "justify_items": null,
            "left": null,
            "margin": null,
            "max_height": null,
            "max_width": null,
            "min_height": null,
            "min_width": null,
            "object_fit": null,
            "object_position": null,
            "order": null,
            "overflow": null,
            "overflow_x": null,
            "overflow_y": null,
            "padding": null,
            "right": null,
            "top": null,
            "visibility": null,
            "width": null
          }
        },
        "bfc0fa11e44445eb83ffbacc5b57fe4c": {
          "model_module": "@jupyter-widgets/controls",
          "model_name": "DescriptionStyleModel",
          "model_module_version": "1.5.0",
          "state": {
            "_model_module": "@jupyter-widgets/controls",
            "_model_module_version": "1.5.0",
            "_model_name": "DescriptionStyleModel",
            "_view_count": null,
            "_view_module": "@jupyter-widgets/base",
            "_view_module_version": "1.2.0",
            "_view_name": "StyleView",
            "description_width": ""
          }
        },
        "163b065fc7aa478ab4490bfb42918665": {
          "model_module": "@jupyter-widgets/base",
          "model_name": "LayoutModel",
          "model_module_version": "1.2.0",
          "state": {
            "_model_module": "@jupyter-widgets/base",
            "_model_module_version": "1.2.0",
            "_model_name": "LayoutModel",
            "_view_count": null,
            "_view_module": "@jupyter-widgets/base",
            "_view_module_version": "1.2.0",
            "_view_name": "LayoutView",
            "align_content": null,
            "align_items": null,
            "align_self": null,
            "border": null,
            "bottom": null,
            "display": null,
            "flex": null,
            "flex_flow": null,
            "grid_area": null,
            "grid_auto_columns": null,
            "grid_auto_flow": null,
            "grid_auto_rows": null,
            "grid_column": null,
            "grid_gap": null,
            "grid_row": null,
            "grid_template_areas": null,
            "grid_template_columns": null,
            "grid_template_rows": null,
            "height": null,
            "justify_content": null,
            "justify_items": null,
            "left": null,
            "margin": null,
            "max_height": null,
            "max_width": null,
            "min_height": null,
            "min_width": null,
            "object_fit": null,
            "object_position": null,
            "order": null,
            "overflow": null,
            "overflow_x": null,
            "overflow_y": null,
            "padding": null,
            "right": null,
            "top": null,
            "visibility": null,
            "width": null
          }
        },
        "4e8951f887d34e8aaff4f434f933075d": {
          "model_module": "@jupyter-widgets/controls",
          "model_name": "ProgressStyleModel",
          "model_module_version": "1.5.0",
          "state": {
            "_model_module": "@jupyter-widgets/controls",
            "_model_module_version": "1.5.0",
            "_model_name": "ProgressStyleModel",
            "_view_count": null,
            "_view_module": "@jupyter-widgets/base",
            "_view_module_version": "1.2.0",
            "_view_name": "StyleView",
            "bar_color": null,
            "description_width": ""
          }
        },
        "30d5c583f368423e8df51fa1e049e886": {
          "model_module": "@jupyter-widgets/base",
          "model_name": "LayoutModel",
          "model_module_version": "1.2.0",
          "state": {
            "_model_module": "@jupyter-widgets/base",
            "_model_module_version": "1.2.0",
            "_model_name": "LayoutModel",
            "_view_count": null,
            "_view_module": "@jupyter-widgets/base",
            "_view_module_version": "1.2.0",
            "_view_name": "LayoutView",
            "align_content": null,
            "align_items": null,
            "align_self": null,
            "border": null,
            "bottom": null,
            "display": null,
            "flex": null,
            "flex_flow": null,
            "grid_area": null,
            "grid_auto_columns": null,
            "grid_auto_flow": null,
            "grid_auto_rows": null,
            "grid_column": null,
            "grid_gap": null,
            "grid_row": null,
            "grid_template_areas": null,
            "grid_template_columns": null,
            "grid_template_rows": null,
            "height": null,
            "justify_content": null,
            "justify_items": null,
            "left": null,
            "margin": null,
            "max_height": null,
            "max_width": null,
            "min_height": null,
            "min_width": null,
            "object_fit": null,
            "object_position": null,
            "order": null,
            "overflow": null,
            "overflow_x": null,
            "overflow_y": null,
            "padding": null,
            "right": null,
            "top": null,
            "visibility": null,
            "width": null
          }
        },
        "6b128c15975243ecba1a22e78e3e7366": {
          "model_module": "@jupyter-widgets/controls",
          "model_name": "DescriptionStyleModel",
          "model_module_version": "1.5.0",
          "state": {
            "_model_module": "@jupyter-widgets/controls",
            "_model_module_version": "1.5.0",
            "_model_name": "DescriptionStyleModel",
            "_view_count": null,
            "_view_module": "@jupyter-widgets/base",
            "_view_module_version": "1.2.0",
            "_view_name": "StyleView",
            "description_width": ""
          }
        },
        "64f1f39545784d54be3f3c803f4f6f70": {
          "model_module": "@jupyter-widgets/controls",
          "model_name": "HBoxModel",
          "model_module_version": "1.5.0",
          "state": {
            "_dom_classes": [],
            "_model_module": "@jupyter-widgets/controls",
            "_model_module_version": "1.5.0",
            "_model_name": "HBoxModel",
            "_view_count": null,
            "_view_module": "@jupyter-widgets/controls",
            "_view_module_version": "1.5.0",
            "_view_name": "HBoxView",
            "box_style": "",
            "children": [
              "IPY_MODEL_2ca1de618520485cb8838821fbe2eb6b",
              "IPY_MODEL_17feb696002b45c1ad38b1af92f28aef",
              "IPY_MODEL_85abd27faf6545a4ba99d15497047eb7"
            ],
            "layout": "IPY_MODEL_0f1acb54ac2547f589140bcac5f12869"
          }
        },
        "2ca1de618520485cb8838821fbe2eb6b": {
          "model_module": "@jupyter-widgets/controls",
          "model_name": "HTMLModel",
          "model_module_version": "1.5.0",
          "state": {
            "_dom_classes": [],
            "_model_module": "@jupyter-widgets/controls",
            "_model_module_version": "1.5.0",
            "_model_name": "HTMLModel",
            "_view_count": null,
            "_view_module": "@jupyter-widgets/controls",
            "_view_module_version": "1.5.0",
            "_view_name": "HTMLView",
            "description": "",
            "description_tooltip": null,
            "layout": "IPY_MODEL_b1170305bde44220b5afa735e1bf3058",
            "placeholder": "​",
            "style": "IPY_MODEL_4bdcb501b0b64381b03b3a44a3b79406",
            "value": "100%"
          }
        },
        "17feb696002b45c1ad38b1af92f28aef": {
          "model_module": "@jupyter-widgets/controls",
          "model_name": "FloatProgressModel",
          "model_module_version": "1.5.0",
          "state": {
            "_dom_classes": [],
            "_model_module": "@jupyter-widgets/controls",
            "_model_module_version": "1.5.0",
            "_model_name": "FloatProgressModel",
            "_view_count": null,
            "_view_module": "@jupyter-widgets/controls",
            "_view_module_version": "1.5.0",
            "_view_name": "ProgressView",
            "bar_style": "success",
            "description": "",
            "description_tooltip": null,
            "layout": "IPY_MODEL_1bafec90e9c9407fa52f012471bd4aaa",
            "max": 4542,
            "min": 0,
            "orientation": "horizontal",
            "style": "IPY_MODEL_1cfbf33fb00e44deab0949dd338e3860",
            "value": 4542
          }
        },
        "85abd27faf6545a4ba99d15497047eb7": {
          "model_module": "@jupyter-widgets/controls",
          "model_name": "HTMLModel",
          "model_module_version": "1.5.0",
          "state": {
            "_dom_classes": [],
            "_model_module": "@jupyter-widgets/controls",
            "_model_module_version": "1.5.0",
            "_model_name": "HTMLModel",
            "_view_count": null,
            "_view_module": "@jupyter-widgets/controls",
            "_view_module_version": "1.5.0",
            "_view_name": "HTMLView",
            "description": "",
            "description_tooltip": null,
            "layout": "IPY_MODEL_bfb099dba2e143a1b0ab89bb6240e7b1",
            "placeholder": "​",
            "style": "IPY_MODEL_8e502ee030d94454b445ccdefd0c81aa",
            "value": " 4542/4542 [00:00&lt;00:00, 50179.58it/s]"
          }
        },
        "0f1acb54ac2547f589140bcac5f12869": {
          "model_module": "@jupyter-widgets/base",
          "model_name": "LayoutModel",
          "model_module_version": "1.2.0",
          "state": {
            "_model_module": "@jupyter-widgets/base",
            "_model_module_version": "1.2.0",
            "_model_name": "LayoutModel",
            "_view_count": null,
            "_view_module": "@jupyter-widgets/base",
            "_view_module_version": "1.2.0",
            "_view_name": "LayoutView",
            "align_content": null,
            "align_items": null,
            "align_self": null,
            "border": null,
            "bottom": null,
            "display": null,
            "flex": null,
            "flex_flow": null,
            "grid_area": null,
            "grid_auto_columns": null,
            "grid_auto_flow": null,
            "grid_auto_rows": null,
            "grid_column": null,
            "grid_gap": null,
            "grid_row": null,
            "grid_template_areas": null,
            "grid_template_columns": null,
            "grid_template_rows": null,
            "height": null,
            "justify_content": null,
            "justify_items": null,
            "left": null,
            "margin": null,
            "max_height": null,
            "max_width": null,
            "min_height": null,
            "min_width": null,
            "object_fit": null,
            "object_position": null,
            "order": null,
            "overflow": null,
            "overflow_x": null,
            "overflow_y": null,
            "padding": null,
            "right": null,
            "top": null,
            "visibility": null,
            "width": null
          }
        },
        "b1170305bde44220b5afa735e1bf3058": {
          "model_module": "@jupyter-widgets/base",
          "model_name": "LayoutModel",
          "model_module_version": "1.2.0",
          "state": {
            "_model_module": "@jupyter-widgets/base",
            "_model_module_version": "1.2.0",
            "_model_name": "LayoutModel",
            "_view_count": null,
            "_view_module": "@jupyter-widgets/base",
            "_view_module_version": "1.2.0",
            "_view_name": "LayoutView",
            "align_content": null,
            "align_items": null,
            "align_self": null,
            "border": null,
            "bottom": null,
            "display": null,
            "flex": null,
            "flex_flow": null,
            "grid_area": null,
            "grid_auto_columns": null,
            "grid_auto_flow": null,
            "grid_auto_rows": null,
            "grid_column": null,
            "grid_gap": null,
            "grid_row": null,
            "grid_template_areas": null,
            "grid_template_columns": null,
            "grid_template_rows": null,
            "height": null,
            "justify_content": null,
            "justify_items": null,
            "left": null,
            "margin": null,
            "max_height": null,
            "max_width": null,
            "min_height": null,
            "min_width": null,
            "object_fit": null,
            "object_position": null,
            "order": null,
            "overflow": null,
            "overflow_x": null,
            "overflow_y": null,
            "padding": null,
            "right": null,
            "top": null,
            "visibility": null,
            "width": null
          }
        },
        "4bdcb501b0b64381b03b3a44a3b79406": {
          "model_module": "@jupyter-widgets/controls",
          "model_name": "DescriptionStyleModel",
          "model_module_version": "1.5.0",
          "state": {
            "_model_module": "@jupyter-widgets/controls",
            "_model_module_version": "1.5.0",
            "_model_name": "DescriptionStyleModel",
            "_view_count": null,
            "_view_module": "@jupyter-widgets/base",
            "_view_module_version": "1.2.0",
            "_view_name": "StyleView",
            "description_width": ""
          }
        },
        "1bafec90e9c9407fa52f012471bd4aaa": {
          "model_module": "@jupyter-widgets/base",
          "model_name": "LayoutModel",
          "model_module_version": "1.2.0",
          "state": {
            "_model_module": "@jupyter-widgets/base",
            "_model_module_version": "1.2.0",
            "_model_name": "LayoutModel",
            "_view_count": null,
            "_view_module": "@jupyter-widgets/base",
            "_view_module_version": "1.2.0",
            "_view_name": "LayoutView",
            "align_content": null,
            "align_items": null,
            "align_self": null,
            "border": null,
            "bottom": null,
            "display": null,
            "flex": null,
            "flex_flow": null,
            "grid_area": null,
            "grid_auto_columns": null,
            "grid_auto_flow": null,
            "grid_auto_rows": null,
            "grid_column": null,
            "grid_gap": null,
            "grid_row": null,
            "grid_template_areas": null,
            "grid_template_columns": null,
            "grid_template_rows": null,
            "height": null,
            "justify_content": null,
            "justify_items": null,
            "left": null,
            "margin": null,
            "max_height": null,
            "max_width": null,
            "min_height": null,
            "min_width": null,
            "object_fit": null,
            "object_position": null,
            "order": null,
            "overflow": null,
            "overflow_x": null,
            "overflow_y": null,
            "padding": null,
            "right": null,
            "top": null,
            "visibility": null,
            "width": null
          }
        },
        "1cfbf33fb00e44deab0949dd338e3860": {
          "model_module": "@jupyter-widgets/controls",
          "model_name": "ProgressStyleModel",
          "model_module_version": "1.5.0",
          "state": {
            "_model_module": "@jupyter-widgets/controls",
            "_model_module_version": "1.5.0",
            "_model_name": "ProgressStyleModel",
            "_view_count": null,
            "_view_module": "@jupyter-widgets/base",
            "_view_module_version": "1.2.0",
            "_view_name": "StyleView",
            "bar_color": null,
            "description_width": ""
          }
        },
        "bfb099dba2e143a1b0ab89bb6240e7b1": {
          "model_module": "@jupyter-widgets/base",
          "model_name": "LayoutModel",
          "model_module_version": "1.2.0",
          "state": {
            "_model_module": "@jupyter-widgets/base",
            "_model_module_version": "1.2.0",
            "_model_name": "LayoutModel",
            "_view_count": null,
            "_view_module": "@jupyter-widgets/base",
            "_view_module_version": "1.2.0",
            "_view_name": "LayoutView",
            "align_content": null,
            "align_items": null,
            "align_self": null,
            "border": null,
            "bottom": null,
            "display": null,
            "flex": null,
            "flex_flow": null,
            "grid_area": null,
            "grid_auto_columns": null,
            "grid_auto_flow": null,
            "grid_auto_rows": null,
            "grid_column": null,
            "grid_gap": null,
            "grid_row": null,
            "grid_template_areas": null,
            "grid_template_columns": null,
            "grid_template_rows": null,
            "height": null,
            "justify_content": null,
            "justify_items": null,
            "left": null,
            "margin": null,
            "max_height": null,
            "max_width": null,
            "min_height": null,
            "min_width": null,
            "object_fit": null,
            "object_position": null,
            "order": null,
            "overflow": null,
            "overflow_x": null,
            "overflow_y": null,
            "padding": null,
            "right": null,
            "top": null,
            "visibility": null,
            "width": null
          }
        },
        "8e502ee030d94454b445ccdefd0c81aa": {
          "model_module": "@jupyter-widgets/controls",
          "model_name": "DescriptionStyleModel",
          "model_module_version": "1.5.0",
          "state": {
            "_model_module": "@jupyter-widgets/controls",
            "_model_module_version": "1.5.0",
            "_model_name": "DescriptionStyleModel",
            "_view_count": null,
            "_view_module": "@jupyter-widgets/base",
            "_view_module_version": "1.2.0",
            "_view_name": "StyleView",
            "description_width": ""
          }
        }
      }
    }
  },
  "nbformat": 4,
  "nbformat_minor": 0
}